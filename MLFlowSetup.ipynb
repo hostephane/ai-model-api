{
 "cells": [
  {
   "cell_type": "markdown",
   "id": "4888d0d2",
   "metadata": {},
   "source": [
    "# MLflow Example: Tracking Two Model Training Runs"
   ]
  },
  {
   "cell_type": "code",
   "execution_count": 1,
   "id": "16184be1",
   "metadata": {},
   "outputs": [
    {
     "ename": "ModuleNotFoundError",
     "evalue": "No module named 'sklearn'",
     "output_type": "error",
     "traceback": [
      "\u001b[31m---------------------------------------------------------------------------\u001b[39m",
      "\u001b[31mModuleNotFoundError\u001b[39m                       Traceback (most recent call last)",
      "\u001b[36mCell\u001b[39m\u001b[36m \u001b[39m\u001b[32mIn[1]\u001b[39m\u001b[32m, line 4\u001b[39m\n\u001b[32m      1\u001b[39m \u001b[38;5;66;03m# === Model Training and Experimentation ===\u001b[39;00m\n\u001b[32m      2\u001b[39m \n\u001b[32m      3\u001b[39m \u001b[38;5;66;03m# Import necessary libraries\u001b[39;00m\n\u001b[32m----> \u001b[39m\u001b[32m4\u001b[39m \u001b[38;5;28;01mfrom\u001b[39;00m\u001b[38;5;250m \u001b[39m\u001b[34;01msklearn\u001b[39;00m\u001b[34;01m.\u001b[39;00m\u001b[34;01mensemble\u001b[39;00m\u001b[38;5;250m \u001b[39m\u001b[38;5;28;01mimport\u001b[39;00m RandomForestClassifier\n\u001b[32m      5\u001b[39m \u001b[38;5;28;01mfrom\u001b[39;00m\u001b[38;5;250m \u001b[39m\u001b[34;01msklearn\u001b[39;00m\u001b[34;01m.\u001b[39;00m\u001b[34;01mmodel_selection\u001b[39;00m\u001b[38;5;250m \u001b[39m\u001b[38;5;28;01mimport\u001b[39;00m train_test_split\n\u001b[32m      6\u001b[39m \u001b[38;5;28;01mfrom\u001b[39;00m\u001b[38;5;250m \u001b[39m\u001b[34;01msklearn\u001b[39;00m\u001b[34;01m.\u001b[39;00m\u001b[34;01mmetrics\u001b[39;00m\u001b[38;5;250m \u001b[39m\u001b[38;5;28;01mimport\u001b[39;00m accuracy_score\n",
      "\u001b[31mModuleNotFoundError\u001b[39m: No module named 'sklearn'"
     ]
    }
   ],
   "source": [
    "# === Model Training and Experimentation ===\n",
    "\n",
    "# Import necessary libraries\n",
    "from sklearn.ensemble import RandomForestClassifier\n",
    "from sklearn.model_selection import train_test_split\n",
    "from sklearn.metrics import accuracy_score\n",
    "from sklearn.datasets import load_digits\n"
   ]
  },
  {
   "cell_type": "code",
   "execution_count": null,
   "id": "6ee458ef",
   "metadata": {},
   "outputs": [],
   "source": [
    "\n",
    "# Load dataset\n",
    "data = load_digits()\n",
    "X_train, X_test, y_train, y_test = train_test_split(data.data, data.target, test_size=0.2, random_state=42)\n",
    "\n",
    "# Define a function to train a model and return its accuracy\n",
    "def train_model(n_estimators, max_depth):\n",
    "    # Train a RandomForestClassifier\n",
    "    model = RandomForestClassifier(n_estimators=n_estimators, max_depth=max_depth, random_state=42)\n",
    "    model.fit(X_train, y_train)\n",
    "\n",
    "    # Make predictions\n",
    "    predictions = model.predict(X_test)\n",
    "    accuracy = accuracy_score(y_test, predictions)\n",
    "\n",
    "    print(f\"Model with n_estimators={n_estimators}, max_depth={max_depth} achieved accuracy={accuracy:.4f}\")\n",
    "    return model, accuracy"
   ]
  },
  {
   "cell_type": "code",
   "execution_count": null,
   "id": "81669da5",
   "metadata": {},
   "outputs": [],
   "source": [
    "\n",
    "# Train models with different hyperparameter configurations\n",
    "print(\"Training Model 1...\")\n",
    "model_1, acc_1 = train_model(n_estimators=20, max_depth=5)"
   ]
  },
  {
   "cell_type": "code",
   "execution_count": null,
   "id": "94f0f7a1",
   "metadata": {},
   "outputs": [],
   "source": [
    "print(\"\\nTraining Model 2...\")\n",
    "model_2, acc_2 = train_model(n_estimators=100, max_depth=10)\n"
   ]
  },
  {
   "cell_type": "markdown",
   "id": "ab64aace",
   "metadata": {},
   "source": [
    "Now adding MLFlow"
   ]
  },
  {
   "cell_type": "code",
   "execution_count": null,
   "id": "f2ddb7ef",
   "metadata": {},
   "outputs": [],
   "source": [
    "import mlflow\n",
    "import mlflow.sklearn\n",
    "from sklearn.ensemble import RandomForestClassifier\n",
    "from sklearn.model_selection import train_test_split\n",
    "from sklearn.metrics import accuracy_score\n",
    "from sklearn.datasets import load_digits"
   ]
  },
  {
   "cell_type": "code",
   "execution_count": null,
   "id": "3f59d2e1",
   "metadata": {},
   "outputs": [],
   "source": [
    "# get this code from dagshub\n",
    "import dagshub\n",
    "dagshub.init(repo_owner='hostephane', repo_name='ai-model-api', mlflow=True)"
   ]
  },
  {
   "cell_type": "code",
   "execution_count": null,
   "id": "edff98f2",
   "metadata": {},
   "outputs": [],
   "source": [
    "data = load_digits()\n",
    "X_train, X_test, y_train, y_test = train_test_split(data.data, data.target, test_size=0.2, random_state=42)"
   ]
  },
  {
   "cell_type": "code",
   "execution_count": null,
   "id": "ce2ab4eb",
   "metadata": {},
   "outputs": [],
   "source": [
    "# Set MLflow experiment name. This will get created if it doesn't exist\n",
    "experiment_name = \"RandomForestExperiment_2\"\n",
    "mlflow.set_experiment(experiment_name)\n"
   ]
  },
  {
   "cell_type": "code",
   "execution_count": null,
   "id": "d09752f1",
   "metadata": {},
   "outputs": [],
   "source": [
    "# Define a function to train a model, log parameters and metrics to MLflow\n",
    "def train_and_log_model(n_estimators, max_depth):\n",
    "    with mlflow.start_run(): # <--\n",
    "        # Train a RandomForestClassifier\n",
    "        model = RandomForestClassifier(n_estimators=n_estimators, max_depth=max_depth, random_state=42)\n",
    "        model.fit(X_train, y_train)\n",
    "\n",
    "        # Make predictions\n",
    "        predictions = model.predict(X_test)\n",
    "        accuracy = accuracy_score(y_test, predictions)\n",
    "\n",
    "        # Log parameters, metrics, and the model itself\n",
    "        mlflow.log_param(\"n_estimators\", n_estimators)\n",
    "        mlflow.log_param(\"max_depth\", max_depth)\n",
    "        mlflow.log_metric(\"accuracy\", accuracy)\n",
    "        mlflow.sklearn.log_model(model, \"random_forest_model_2\")\n",
    "\n",
    "        print(f\"Logged RandomForest model with n_estimators={n_estimators}, max_depth={max_depth}, accuracy={accuracy:.4f}\")\n"
   ]
  },
  {
   "cell_type": "code",
   "execution_count": null,
   "id": "6ea78600",
   "metadata": {},
   "outputs": [],
   "source": [
    "# Train and log Model 1\n",
    "print(\"Training and Logging Model 1...\")\n",
    "train_and_log_model(n_estimators=20, max_depth=5)"
   ]
  },
  {
   "cell_type": "code",
   "execution_count": null,
   "id": "6af0267f",
   "metadata": {},
   "outputs": [],
   "source": [
    "# Train and log Model 2\n",
    "print(\"\\nTraining and Logging Model 2...\")\n",
    "train_and_log_model(n_estimators=100, max_depth=10)"
   ]
  },
  {
   "cell_type": "code",
   "execution_count": null,
   "id": "69f13b96",
   "metadata": {},
   "outputs": [],
   "source": [
    "# Instructions to visualize results\n",
    "print(\"\\nTo view the results, run the following command in your terminal:\")\n",
    "print(\"mlflow ui\")\n",
    "print(\"Then navigate to http://127.0.0.1:5000 to explore the experiment results.\")"
   ]
  }
 ],
 "metadata": {
  "kernelspec": {
   "display_name": "Python 3",
   "language": "python",
   "name": "python3"
  },
  "language_info": {
   "codemirror_mode": {
    "name": "ipython",
    "version": 3
   },
   "file_extension": ".py",
   "mimetype": "text/x-python",
   "name": "python",
   "nbconvert_exporter": "python",
   "pygments_lexer": "ipython3",
   "version": "3.13.3"
  }
 },
 "nbformat": 4,
 "nbformat_minor": 5
}
