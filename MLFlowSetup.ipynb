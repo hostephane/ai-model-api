{
 "cells": [
  {
   "cell_type": "markdown",
   "id": "4888d0d2",
   "metadata": {},
   "source": [
    "# MLflow Example: Tracking Two Model Training Runs"
   ]
  },
  {
   "cell_type": "code",
   "execution_count": 73,
   "id": "18dccf26-182a-46ab-8cf5-b79d8df72932",
   "metadata": {},
   "outputs": [
    {
     "ename": "SyntaxError",
     "evalue": "invalid syntax (2365237798.py, line 3)",
     "output_type": "error",
     "traceback": [
      "\u001b[1;36m  Cell \u001b[1;32mIn[73], line 3\u001b[1;36m\u001b[0m\n\u001b[1;33m    :pip\u001b[0m\n\u001b[1;37m    ^\u001b[0m\n\u001b[1;31mSyntaxError\u001b[0m\u001b[1;31m:\u001b[0m invalid syntax\n"
     ]
    }
   ],
   "source": [
    "#!pip install mlflow==2.7 # ou une autre version\n",
    "#!pip install dagshub \n",
    "!pip install scikit-learn==1.2.2"
   ]
  },
  {
   "cell_type": "code",
   "execution_count": 43,
   "id": "16184be1",
   "metadata": {},
   "outputs": [],
   "source": [
    "# === Model Training and Experimentation ===\n",
    "\n",
    "# Import necessary libraries\n",
    "from sklearn.ensemble import RandomForestClassifier\n",
    "from sklearn.model_selection import train_test_split\n",
    "from sklearn.metrics import accuracy_score\n",
    "from sklearn.datasets import load_digits\n"
   ]
  },
  {
   "cell_type": "code",
   "execution_count": 45,
   "id": "6ee458ef",
   "metadata": {},
   "outputs": [],
   "source": [
    "\n",
    "# Load dataset\n",
    "data = load_digits()\n",
    "X_train, X_test, y_train, y_test = train_test_split(data.data, data.target, test_size=0.2, random_state=42)\n",
    "\n",
    "# Define a function to train a model and return its accuracy\n",
    "def train_model(n_estimators, max_depth):\n",
    "    # Train a RandomForestClassifier\n",
    "    model = RandomForestClassifier(n_estimators=n_estimators, max_depth=max_depth, random_state=42)\n",
    "    model.fit(X_train, y_train)\n",
    "\n",
    "    # Make predictions\n",
    "    predictions = model.predict(X_test)\n",
    "    accuracy = accuracy_score(y_test, predictions)\n",
    "\n",
    "    print(f\"Model with n_estimators={n_estimators}, max_depth={max_depth} achieved accuracy={accuracy:.4f}\")\n",
    "    return model, accuracy"
   ]
  },
  {
   "cell_type": "code",
   "execution_count": 47,
   "id": "81669da5",
   "metadata": {},
   "outputs": [
    {
     "name": "stdout",
     "output_type": "stream",
     "text": [
      "Training Model 1...\n",
      "Model with n_estimators=20, max_depth=5 achieved accuracy=0.9389\n"
     ]
    }
   ],
   "source": [
    "\n",
    "# Train models with different hyperparameter configurations\n",
    "print(\"Training Model 1...\")\n",
    "model_1, acc_1 = train_model(n_estimators=20, max_depth=5)"
   ]
  },
  {
   "cell_type": "code",
   "execution_count": 49,
   "id": "94f0f7a1",
   "metadata": {},
   "outputs": [
    {
     "name": "stdout",
     "output_type": "stream",
     "text": [
      "\n",
      "Training Model 2...\n",
      "Model with n_estimators=100, max_depth=10 achieved accuracy=0.9722\n"
     ]
    }
   ],
   "source": [
    "print(\"\\nTraining Model 2...\")\n",
    "model_2, acc_2 = train_model(n_estimators=100, max_depth=10)\n"
   ]
  },
  {
   "cell_type": "markdown",
   "id": "ab64aace",
   "metadata": {},
   "source": [
    "Now adding MLFlow"
   ]
  },
  {
   "cell_type": "code",
   "execution_count": null,
   "id": "59eb3e03-ea10-4137-b800-6704c933a2e0",
   "metadata": {},
   "outputs": [],
   "source": []
  },
  {
   "cell_type": "code",
   "execution_count": 53,
   "id": "f2ddb7ef",
   "metadata": {},
   "outputs": [],
   "source": [
    "import mlflow\n",
    "import mlflow.sklearn\n",
    "from sklearn.ensemble import RandomForestClassifier\n",
    "from sklearn.model_selection import train_test_split\n",
    "from sklearn.metrics import accuracy_score\n",
    "from sklearn.datasets import load_digits"
   ]
  },
  {
   "cell_type": "code",
   "execution_count": 55,
   "id": "3f59d2e1",
   "metadata": {},
   "outputs": [
    {
     "data": {
      "text/html": [
       "<pre style=\"white-space:pre;overflow-x:auto;line-height:normal;font-family:Menlo,'DejaVu Sans Mono',consolas,'Courier New',monospace\">Initialized MLflow to track repo <span style=\"color: #008000; text-decoration-color: #008000\">\"hostephane/ai-model-api\"</span>\n",
       "</pre>\n"
      ],
      "text/plain": [
       "Initialized MLflow to track repo \u001b[32m\"hostephane/ai-model-api\"\u001b[0m\n"
      ]
     },
     "metadata": {},
     "output_type": "display_data"
    },
    {
     "data": {
      "text/html": [
       "<pre style=\"white-space:pre;overflow-x:auto;line-height:normal;font-family:Menlo,'DejaVu Sans Mono',consolas,'Courier New',monospace\">Repository hostephane/ai-model-api initialized!\n",
       "</pre>\n"
      ],
      "text/plain": [
       "Repository hostephane/ai-model-api initialized!\n"
      ]
     },
     "metadata": {},
     "output_type": "display_data"
    }
   ],
   "source": [
    "# get this code from dagshub\n",
    "import dagshub\n",
    "dagshub.init(repo_owner='hostephane', repo_name='ai-model-api', mlflow=True)"
   ]
  },
  {
   "cell_type": "code",
   "execution_count": 56,
   "id": "edff98f2",
   "metadata": {},
   "outputs": [],
   "source": [
    "data = load_digits()\n",
    "X_train, X_test, y_train, y_test = train_test_split(data.data, data.target, test_size=0.2, random_state=42)"
   ]
  },
  {
   "cell_type": "code",
   "execution_count": 59,
   "id": "ce2ab4eb",
   "metadata": {},
   "outputs": [
    {
     "data": {
      "text/plain": [
       "<Experiment: artifact_location='mlflow-artifacts:/872a9cabe07f4bc280b98d2bc2f09c2e', creation_time=1750861795924, experiment_id='0', last_update_time=1750861795924, lifecycle_stage='active', name='RandomForestExperiment_2', tags={}>"
      ]
     },
     "execution_count": 59,
     "metadata": {},
     "output_type": "execute_result"
    }
   ],
   "source": [
    "# Set MLflow experiment name. This will get created if it doesn't exist\n",
    "experiment_name = \"RandomForestExperiment_2\"\n",
    "mlflow.set_experiment(experiment_name)\n"
   ]
  },
  {
   "cell_type": "code",
   "execution_count": 61,
   "id": "d09752f1",
   "metadata": {},
   "outputs": [],
   "source": [
    "def train_and_log_model(n_estimators, max_depth):\n",
    "    with mlflow.start_run():\n",
    "        model = RandomForestClassifier(n_estimators=n_estimators, max_depth=max_depth, random_state=42)\n",
    "        model.fit(X_train, y_train)\n",
    "\n",
    "        predictions = model.predict(X_test)\n",
    "        accuracy = accuracy_score(y_test, predictions)\n",
    "\n",
    "        mlflow.log_param(\"n_estimators\", n_estimators)\n",
    "        mlflow.log_param(\"max_depth\", max_depth)\n",
    "        mlflow.log_metric(\"accuracy\", accuracy)\n",
    "        mlflow.sklearn.log_model(model, artifact_path=\"random_forest_model_2\")\n",
    "\n",
    "\n",
    "        print(f\"Logged RandomForest model with n_estimators={n_estimators}, max_depth={max_depth}, accuracy={accuracy:.4f}\")\n"
   ]
  },
  {
   "cell_type": "code",
   "execution_count": 63,
   "id": "6ea78600",
   "metadata": {},
   "outputs": [
    {
     "name": "stdout",
     "output_type": "stream",
     "text": [
      "Training and Logging Model 1...\n",
      "Logged RandomForest model with n_estimators=20, max_depth=5, accuracy=0.9389\n"
     ]
    }
   ],
   "source": [
    "# Train and log Model 1\n",
    "print(\"Training and Logging Model 1...\")\n",
    "train_and_log_model(n_estimators=20, max_depth=5)"
   ]
  },
  {
   "cell_type": "code",
   "execution_count": 64,
   "id": "6af0267f",
   "metadata": {},
   "outputs": [
    {
     "name": "stdout",
     "output_type": "stream",
     "text": [
      "\n",
      "Training and Logging Model 2...\n",
      "Logged RandomForest model with n_estimators=100, max_depth=10, accuracy=0.9722\n"
     ]
    }
   ],
   "source": [
    "# Train and log Model 2\n",
    "print(\"\\nTraining and Logging Model 2...\")\n",
    "train_and_log_model(n_estimators=100, max_depth=10)"
   ]
  },
  {
   "cell_type": "code",
   "execution_count": 65,
   "id": "69f13b96",
   "metadata": {},
   "outputs": [
    {
     "name": "stdout",
     "output_type": "stream",
     "text": [
      "\n",
      "To view the results, run the following command in your terminal:\n",
      "mlflow ui\n",
      "Then navigate to http://127.0.0.1:5000 to explore the experiment results.\n"
     ]
    }
   ],
   "source": [
    "# Instructions to visualize results\n",
    "print(\"\\nTo view the results, run the following command in your terminal:\")\n",
    "print(\"mlflow ui\")\n",
    "print(\"Then navigate to http://127.0.0.1:5000 to explore the experiment results.\")"
   ]
  },
  {
   "cell_type": "code",
   "execution_count": null,
   "id": "bec4a4b9-11d4-4b1a-875e-b1d5f1e65969",
   "metadata": {},
   "outputs": [],
   "source": []
  },
  {
   "cell_type": "code",
   "execution_count": 69,
   "id": "0fd57125-d12a-4227-b88b-544afb4477aa",
   "metadata": {},
   "outputs": [],
   "source": [
    "import mlflow.sklearn\n",
    "from sklearn.ensemble import RandomForestClassifier\n",
    "from sklearn.datasets import load_digits\n",
    "from sklearn.model_selection import train_test_split\n",
    "\n",
    "# Load data\n",
    "data = load_digits()\n",
    "X_train, X_test, y_train, y_test = train_test_split(data.data, data.target, test_size=0.2)\n",
    "\n",
    "# Train model\n",
    "model = RandomForestClassifier(n_estimators=100, max_depth=10)\n",
    "model.fit(X_train, y_train)\n",
    "\n",
    "# 💾 Save locally to the expected folder\n",
    "mlflow.sklearn.save_model(model, path=\"models/random_forest_model_2\")\n"
   ]
  },
  {
   "cell_type": "code",
   "execution_count": null,
   "id": "5e57a0b9-0812-41b4-802a-31db24034f67",
   "metadata": {},
   "outputs": [],
   "source": []
  }
 ],
 "metadata": {
  "kernelspec": {
   "display_name": "Python 3 (ipykernel)",
   "language": "python",
   "name": "python3"
  },
  "language_info": {
   "codemirror_mode": {
    "name": "ipython",
    "version": 3
   },
   "file_extension": ".py",
   "mimetype": "text/x-python",
   "name": "python",
   "nbconvert_exporter": "python",
   "pygments_lexer": "ipython3",
   "version": "3.11.7"
  }
 },
 "nbformat": 4,
 "nbformat_minor": 5
}
